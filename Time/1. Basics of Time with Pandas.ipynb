{
 "cells": [
  {
   "cell_type": "code",
   "execution_count": 1,
   "metadata": {},
   "outputs": [],
   "source": [
    "import pandas as pd\n",
    "import numpy as np"
   ]
  },
  {
   "cell_type": "markdown",
   "metadata": {},
   "source": [
    "## 1. A simple problem in hydrology\n",
    "\n",
    "How many days elapsed between the start of Water Year 1996 (October 1, 1995) and the end of Water Year 2015 (September 30, 2015).\n",
    "\n",
    "### The hard way...\n",
    "\n",
    "There are 20 years in our date range. Each year has 365 days, except for leap years. In our range the following were leap years:\n",
    "* 1996\n",
    "* 2000 (this one was a special case)\n",
    "* 2004\n",
    "* 2008\n",
    "* 2012\n",
    "\n",
    "So our answer is:\n",
    "\n",
    "$N_{days} = N_{years}*365 + 5*1$"
   ]
  },
  {
   "cell_type": "code",
   "execution_count": 2,
   "metadata": {},
   "outputs": [
    {
     "name": "stdout",
     "output_type": "stream",
     "text": [
      "7305\n"
     ]
    }
   ],
   "source": [
    "Ndays = 20*365 + 5*1\n",
    "print(Ndays)"
   ]
  },
  {
   "cell_type": "markdown",
   "metadata": {},
   "source": [
    "### A more generic way...\n",
    "The above is the correct answer. But, it is super specific though and required that I manually count the number of years on my fingers. As such, it's error prone. A more generic answer might look like the following, which defines a function to determine how many days are in any given year based on whether the year is modulo divisible* by 4, 100, and 500:\n",
    "\n",
    "\\* Note that \"modulo divisible,\" which uses the `%` operator, means that a whole number is divisible by another whole number with no remainder. "
   ]
  },
  {
   "cell_type": "code",
   "execution_count": 5,
   "metadata": {},
   "outputs": [
    {
     "name": "stdout",
     "output_type": "stream",
     "text": [
      "7305\n"
     ]
    }
   ],
   "source": [
    "def DaysInYear(Year):\n",
    "    if (Year % 4 == 0):\n",
    "        if (Year % 100 == 0):\n",
    "            if (Year % 500 == 0):\n",
    "                Ndays_year = 366\n",
    "            else:\n",
    "                Ndays_year = 365\n",
    "        else:\n",
    "            Ndays_year = 366\n",
    "    else:\n",
    "        Ndays_year = 365\n",
    "    \n",
    "    return Ndays_year\n",
    "\n",
    "StartYear = 1996\n",
    "EndYear = 2015\n",
    "\n",
    "Ndays = 0\n",
    "\n",
    "for ThisYear in np.arange(StartYear,EndYear+1):\n",
    "    Ndays += DaysInYear(ThisYear)\n",
    "    \n",
    "print(Ndays)"
   ]
  },
  {
   "cell_type": "markdown",
   "metadata": {},
   "source": [
    "This also produces the correct answer and is now more generic in that we can similarly use the same function to get the number of days that elapse between any two water years:"
   ]
  },
  {
   "cell_type": "code",
   "execution_count": 10,
   "metadata": {},
   "outputs": [
    {
     "name": "stdout",
     "output_type": "stream",
     "text": [
      "N number of days between 1950 and 2020 is 25933\n"
     ]
    }
   ],
   "source": [
    "StartYear = 1950\n",
    "EndYear = 2020\n",
    "\n",
    "Ndays = 0\n",
    "\n",
    "for ThisYear in np.arange(StartYear,EndYear+1):\n",
    "    Ndays += DaysInYear(ThisYear)\n",
    "    \n",
    "print('N number of days between '+str(StartYear)+' and '+str(EndYear)+' is '+str(Ndays))"
   ]
  },
  {
   "cell_type": "markdown",
   "metadata": {},
   "source": [
    "You can change the start and end year in the above to verify this works.\n",
    "\n",
    "### The easier way...\n",
    "\n",
    "![Someoneelse](someoneelse.gif)\n",
    "\n",
    "Clearly this is a problem that must be common to hydrologists, as well as to anyone that works in a field where the specific dates and times of events are significant. Ecology, climate science, aerospace engineering, finance are all fields where dates and times are signficant. So someone has clearly developed some tools for doing things that we need to do with time, right? **They have!!!**\n",
    "\n",
    "The Pandas library has a suite of tools that operate on an object called a `datetime64` object. This allows us to do powerful things in comparatively few lines of code..."
   ]
  },
  {
   "cell_type": "code",
   "execution_count": 19,
   "metadata": {},
   "outputs": [
    {
     "name": "stdout",
     "output_type": "stream",
     "text": [
      "7305 days 00:00:00\n"
     ]
    }
   ],
   "source": [
    "StartDate = pd.to_datetime('1995-10-01 00:00')\n",
    "EndDate = pd.to_datetime('2015-10-01 00:00')\n",
    "\n",
    "print(EndDate - StartDate)"
   ]
  },
  {
   "cell_type": "markdown",
   "metadata": {},
   "source": [
    "Wow! That was easy. Not only that, but we are working with something that is unambiguously a date and time. We passed the string `1995-10-01 00:00` which is midnight on October 1, 1995 to the pandas function `pd.to_datetime()` and it created an object of type `datetime64` that interpreted that as a date. We did the same for midnight October 1, 2015 (the very end of our range) and it did the same. Then all we did was take the difference between the end and the beginning using the `-` operator and it logically concluded that we wanted the difference between those dates in some logically interpretable unit (days).\n",
    "\n",
    "But this isn't the only way we could have done this..."
   ]
  },
  {
   "cell_type": "code",
   "execution_count": 24,
   "metadata": {},
   "outputs": [
    {
     "name": "stdout",
     "output_type": "stream",
     "text": [
      "DatetimeIndex(['1995-10-01', '1995-10-02', '1995-10-03', '1995-10-04',\n",
      "               '1995-10-05', '1995-10-06', '1995-10-07', '1995-10-08',\n",
      "               '1995-10-09', '1995-10-10',\n",
      "               ...\n",
      "               '2015-09-21', '2015-09-22', '2015-09-23', '2015-09-24',\n",
      "               '2015-09-25', '2015-09-26', '2015-09-27', '2015-09-28',\n",
      "               '2015-09-29', '2015-09-30'],\n",
      "              dtype='datetime64[ns]', length=7305, freq='D')\n"
     ]
    }
   ],
   "source": [
    "DatesDuringRange = pd.date_range(start='1995-10-01',end='2015-09-30')\n",
    "\n",
    "print(DatesDuringRange)"
   ]
  },
  {
   "cell_type": "code",
   "execution_count": 38,
   "metadata": {},
   "outputs": [
    {
     "data": {
      "text/plain": [
       "7305"
      ]
     },
     "execution_count": 38,
     "metadata": {},
     "output_type": "execute_result"
    }
   ],
   "source": [
    "DatesDuringRange.size"
   ]
  },
  {
   "cell_type": "markdown",
   "metadata": {},
   "source": [
    "One advantage to this is that we now have a vector of objects of type `datetime64` that we could associate with some measurement or quantity of interest, like discharge or groundwater level. We can query any date in that vector the way we would with any other vector..."
   ]
  },
  {
   "cell_type": "code",
   "execution_count": 25,
   "metadata": {},
   "outputs": [
    {
     "data": {
      "text/plain": [
       "Timestamp('1995-10-01 00:00:00', freq='D')"
      ]
     },
     "execution_count": 25,
     "metadata": {},
     "output_type": "execute_result"
    }
   ],
   "source": [
    "DatesDuringRange[0]"
   ]
  },
  {
   "cell_type": "code",
   "execution_count": 26,
   "metadata": {},
   "outputs": [
    {
     "data": {
      "text/plain": [
       "Timestamp('1997-02-12 00:00:00', freq='D')"
      ]
     },
     "execution_count": 26,
     "metadata": {},
     "output_type": "execute_result"
    }
   ],
   "source": [
    "DatesDuringRange[500]"
   ]
  },
  {
   "cell_type": "code",
   "execution_count": 27,
   "metadata": {},
   "outputs": [
    {
     "data": {
      "text/plain": [
       "Timestamp('2011-02-23 00:00:00', freq='D')"
      ]
     },
     "execution_count": 27,
     "metadata": {},
     "output_type": "execute_result"
    }
   ],
   "source": [
    "DatesDuringRange[5624]"
   ]
  },
  {
   "cell_type": "code",
   "execution_count": 29,
   "metadata": {},
   "outputs": [
    {
     "name": "stdout",
     "output_type": "stream",
     "text": [
      "DatetimeIndex(['1995-10-01 00:00:00', '1995-10-01 01:00:00',\n",
      "               '1995-10-01 02:00:00', '1995-10-01 03:00:00',\n",
      "               '1995-10-01 04:00:00', '1995-10-01 05:00:00',\n",
      "               '1995-10-01 06:00:00', '1995-10-01 07:00:00',\n",
      "               '1995-10-01 08:00:00', '1995-10-01 09:00:00',\n",
      "               ...\n",
      "               '2015-09-29 15:00:00', '2015-09-29 16:00:00',\n",
      "               '2015-09-29 17:00:00', '2015-09-29 18:00:00',\n",
      "               '2015-09-29 19:00:00', '2015-09-29 20:00:00',\n",
      "               '2015-09-29 21:00:00', '2015-09-29 22:00:00',\n",
      "               '2015-09-29 23:00:00', '2015-09-30 00:00:00'],\n",
      "              dtype='datetime64[ns]', length=175297, freq='H')\n"
     ]
    }
   ],
   "source": [
    "DatetimeDuringRange = pd.date_range(start='1995-10-01',end='2015-09-30',freq='1H')\n",
    "print(DatetimeDuringRange)"
   ]
  },
  {
   "cell_type": "code",
   "execution_count": 58,
   "metadata": {},
   "outputs": [
    {
     "data": {
      "text/plain": [
       "7305"
      ]
     },
     "execution_count": 58,
     "metadata": {},
     "output_type": "execute_result"
    }
   ],
   "source": [
    "DatetimeDuringRange.groupby(DatetimeDuringRange.date)\n",
    "\n",
    "len(DatetimeDuringRange.groupby(DatetimeDuringRange.date))"
   ]
  },
  {
   "cell_type": "code",
   "execution_count": 34,
   "metadata": {},
   "outputs": [
    {
     "name": "stdout",
     "output_type": "stream",
     "text": [
      "DatetimeIndex(['1995-10-01', '1995-11-01', '1995-12-01', '1996-01-01',\n",
      "               '1996-02-01', '1996-03-01', '1996-04-01', '1996-05-01',\n",
      "               '1996-06-01', '1996-07-01',\n",
      "               ...\n",
      "               '2014-12-01', '2015-01-01', '2015-02-01', '2015-03-01',\n",
      "               '2015-04-01', '2015-05-01', '2015-06-01', '2015-07-01',\n",
      "               '2015-08-01', '2015-09-01'],\n",
      "              dtype='datetime64[ns]', length=240, freq='MS')\n"
     ]
    }
   ],
   "source": [
    "MonthsDuringRange = pd.date_range(start='1995-10-01',end='2015-09-30',freq='1MS')\n",
    "print(MonthsDuringRange)"
   ]
  },
  {
   "cell_type": "code",
   "execution_count": null,
   "metadata": {},
   "outputs": [],
   "source": []
  }
 ],
 "metadata": {
  "kernelspec": {
   "display_name": "Python 3",
   "language": "python",
   "name": "python3"
  },
  "language_info": {
   "codemirror_mode": {
    "name": "ipython",
    "version": 3
   },
   "file_extension": ".py",
   "mimetype": "text/x-python",
   "name": "python",
   "nbconvert_exporter": "python",
   "pygments_lexer": "ipython3",
   "version": "3.7.3"
  }
 },
 "nbformat": 4,
 "nbformat_minor": 2
}
